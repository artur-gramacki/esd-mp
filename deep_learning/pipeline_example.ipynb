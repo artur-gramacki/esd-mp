{
 "cells": [
  {
   "cell_type": "code",
   "execution_count": 1,
   "metadata": {},
   "outputs": [],
   "source": [
    "import os\n",
    "import yaml\n",
    "from torch.optim import SGD\n",
    "from torch.optim.lr_scheduler import StepLR\n",
    "from torch.nn import CrossEntropyLoss\n",
    "\n",
    "from utils import (\n",
    "    load_model_input_data,\n",
    "    generate_evaluation_report,\n",
    "    create_checkpoints,\n",
    "    print_training_summary\n",
    ")\n",
    "\n",
    "from data_preparation import split_data_by_proportions\n",
    "from data_setup import create_dataloaders\n",
    "from engine import train_and_validate_model\n",
    "\n",
    "from r2plus1d_network import R2Plus1DConvNet\n",
    "from callbacks import InitStopper, EarlyStopper, ModelCheckpoint\n",
    "from accuracy import BinaryAccuracy"
   ]
  },
  {
   "cell_type": "code",
   "execution_count": 2,
   "metadata": {},
   "outputs": [],
   "source": [
    "with open(\"configs.yml\", 'r') as file:\n",
    "    parameters = yaml.safe_load(file)\n",
    "\n",
    "data_params = parameters[\"data_parameters\"]\n",
    "model_params = parameters[\"model_parameters\"]"
   ]
  },
  {
   "cell_type": "code",
   "execution_count": 3,
   "metadata": {},
   "outputs": [],
   "source": [
    "main_directory = os.path.dirname(os.getcwd())\n",
    "data_path = os.path.join(main_directory, \"data\")\n",
    "primary_data_path = os.path.join(data_path, \"primary\")\n",
    "model_directory_path = os.path.join(data_path, \"models\")"
   ]
  },
  {
   "cell_type": "code",
   "execution_count": 4,
   "metadata": {},
   "outputs": [],
   "source": [
    "input_data = load_model_input_data(primary_data_path, parameters)"
   ]
  },
  {
   "cell_type": "code",
   "execution_count": 5,
   "metadata": {},
   "outputs": [],
   "source": [
    "data_splits = split_data_by_proportions(input_data, data_params)\n",
    "\n",
    "train_data, valid_data, test_data = create_dataloaders(data_splits, data_params)"
   ]
  },
  {
   "cell_type": "code",
   "execution_count": 6,
   "metadata": {},
   "outputs": [],
   "source": [
    "model = R2Plus1DConvNet(\n",
    "    in_channels=model_params[\"in_channels\"],\n",
    "    num_classes=model_params[\"num_classes\"],\n",
    "    dropout=model_params[\"dropout\"])\n",
    "\n",
    "model = model.to(model_params[\"device\"])"
   ]
  },
  {
   "cell_type": "code",
   "execution_count": 7,
   "metadata": {},
   "outputs": [],
   "source": [
    "loss_fn = CrossEntropyLoss()\n",
    "accuracy_fn = BinaryAccuracy()\n",
    "\n",
    "optimizer = SGD(\n",
    "    params=model.parameters(),\n",
    "    lr=model_params[\"learning_rate\"],\n",
    "    weight_decay=model_params[\"weight_decay\"])\n",
    "    \n",
    "lr_scheduler = StepLR(\n",
    "    optimizer,\n",
    "    step_size=model_params[\"step_size\"],\n",
    "    gamma=model_params[\"gamma\"])"
   ]
  },
  {
   "cell_type": "code",
   "execution_count": 8,
   "metadata": {},
   "outputs": [],
   "source": [
    "init_stopper = InitStopper(patience=model_params[\"init_stopper_patience\"])\n",
    "\n",
    "early_stopper = EarlyStopper(\n",
    "    patience=model_params[\"early_stopper_patience\"],\n",
    "    min_delta=model_params[\"early_stopper_min_delta\"])\n",
    "\n",
    "model_checkpoint = ModelCheckpoint(maximize=model_params[\"maximize\"])"
   ]
  },
  {
   "cell_type": "code",
   "execution_count": 9,
   "metadata": {},
   "outputs": [
    {
     "name": "stdout",
     "output_type": "stream",
     "text": [
      "Training has started...\n",
      "\n",
      "\n",
      "Epoch: 1\n",
      "Training loss: 0.6953 | Validation loss: 0.6929\n",
      "Training accuracy: 0.4965 | Validation accuracy: 0.5161\n",
      "\n",
      "\n",
      "Epoch: 2\n",
      "Training loss: 0.6942 | Validation loss: 0.6929\n",
      "Training accuracy: 0.5018 | Validation accuracy: 0.5161\n",
      "\n",
      "\n",
      "Epoch: 3\n",
      "Training loss: 0.6947 | Validation loss: 0.6929\n",
      "Training accuracy: 0.4992 | Validation accuracy: 0.5161\n",
      "\n",
      "\n",
      "Epoch: 4\n",
      "Training loss: 0.6942 | Validation loss: 0.6927\n",
      "Training accuracy: 0.5023 | Validation accuracy: 0.5161\n",
      "\n",
      "\n",
      "Epoch: 5\n",
      "Training loss: 0.6957 | Validation loss: 0.6928\n",
      "Training accuracy: 0.4868 | Validation accuracy: 0.5161\n",
      "\n",
      "\n",
      "Epoch: 6\n",
      "Training loss: 0.6949 | Validation loss: 0.6929\n",
      "Training accuracy: 0.4857 | Validation accuracy: 0.5161\n",
      "\n",
      "\n",
      "Epoch: 7\n",
      "Training loss: 0.6950 | Validation loss: 0.6929\n",
      "Training accuracy: 0.4850 | Validation accuracy: 0.5161\n",
      "\n",
      "\n",
      "Epoch: 8\n",
      "Training loss: 0.6945 | Validation loss: 0.6928\n",
      "Training accuracy: 0.4924 | Validation accuracy: 0.5161\n",
      "\n",
      "\n",
      "Epoch: 9\n",
      "Training loss: 0.6937 | Validation loss: 0.6928\n",
      "Training accuracy: 0.5001 | Validation accuracy: 0.5161\n",
      "\n",
      "\n",
      "Epoch: 10\n",
      "Training loss: 0.6945 | Validation loss: 0.6927\n",
      "Training accuracy: 0.4990 | Validation accuracy: 0.5161\n",
      "\n",
      "Training of 'Seizure Detection Model' completed after 10 epochs.\n",
      "\n"
     ]
    }
   ],
   "source": [
    "results = train_and_validate_model(\n",
    "    model=model,\n",
    "    train_dataloader=train_data,\n",
    "    valid_dataloader=valid_data,\n",
    "    loss_fn=loss_fn,\n",
    "    accuracy_fn=accuracy_fn,\n",
    "    optimizer=optimizer,\n",
    "    lr_scheduler=lr_scheduler,\n",
    "    model_checkpoint=model_checkpoint,\n",
    "    num_epochs=model_params[\"num_epochs\"])"
   ]
  },
  {
   "cell_type": "code",
   "execution_count": 10,
   "metadata": {},
   "outputs": [],
   "source": [
    "best_training_step = model_checkpoint.get_best_training_step()\n",
    "\n",
    "checkpoints = create_checkpoints(\n",
    "    optimizer, lr_scheduler, results, best_training_step)"
   ]
  },
  {
   "cell_type": "code",
   "execution_count": 11,
   "metadata": {},
   "outputs": [
    {
     "name": "stdout",
     "output_type": "stream",
     "text": [
      "-- -- Training Summary: -- --\n",
      "Number of Epochs: 10\n",
      "\n",
      "Final Training Loss: 0.6945\n",
      "Final Validation Loss: 0.6927\n",
      "\n",
      "Final Training Accuracy: 0.4990\n",
      "Final Validation Accuracy: 0.5161\n",
      "\n"
     ]
    }
   ],
   "source": [
    "print_training_summary(results)"
   ]
  },
  {
   "cell_type": "code",
   "execution_count": 12,
   "metadata": {},
   "outputs": [
    {
     "name": "stdout",
     "output_type": "stream",
     "text": [
      "-- -- Model Evaluation -- --\n",
      "-- Evaluation Stage: final --\n",
      "Loss: 0.6934\n",
      "Accuracy: 0.5029\n",
      "\n",
      "Confusion Matrix:\n",
      " [[  0 343]\n",
      " [  0 347]]\n",
      "\n",
      "Precision Score: 0.5029\n",
      "Recall Score: 1.0000\n",
      "F1 Score: 0.6692\n",
      "\n"
     ]
    }
   ],
   "source": [
    "evaluation_report = generate_evaluation_report(\n",
    "    model, test_data, checkpoints[\"best_training_step\"], model_params)"
   ]
  },
  {
   "cell_type": "code",
   "execution_count": null,
   "metadata": {},
   "outputs": [],
   "source": []
  }
 ],
 "metadata": {
  "kernelspec": {
   "display_name": "research_env",
   "language": "python",
   "name": "python3"
  },
  "language_info": {
   "codemirror_mode": {
    "name": "ipython",
    "version": 3
   },
   "file_extension": ".py",
   "mimetype": "text/x-python",
   "name": "python",
   "nbconvert_exporter": "python",
   "pygments_lexer": "ipython3",
   "version": "3.11.1"
  }
 },
 "nbformat": 4,
 "nbformat_minor": 2
}
